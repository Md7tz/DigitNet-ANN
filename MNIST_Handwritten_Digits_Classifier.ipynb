{
 "cells": [
  {
   "cell_type": "markdown",
   "id": "1e0834cb",
   "metadata": {},
   "source": [
    "# Introduction\n",
    "\n",
    "In this project, we will build a neural network to evaluate the MNIST dataset.\n",
    "\n",
    "Some of the benchmark results on MNIST include can be found [on Yann LeCun's page](http://yann.lecun.com/exdb/mnist/) and include:\n",
    "\n",
    "88% [Lecun et al., 1998](http://yann.lecun.com/exdb/publis/pdf/lecun-98.pdf)\n",
    "95.3% [Lecun et al., 1998](http://yann.lecun.com/exdb/publis/pdf/lecun-98.pdf)\n",
    "99.65% [Ciresan et al., 2011](http://people.idsia.ch/~juergen/ijcai2011.pdf)\n",
    "\n",
    "MNIST is a great dataset for sanity checking our models, since the accuracy levels achieved by large convolutional neural networks and small linear models are both quite high. This makes it important to be familiar with the data.\n",
    "\n",
    "## Installation"
   ]
  },
  {
   "cell_type": "code",
   "execution_count": 1,
   "id": "ecb5a450",
   "metadata": {},
   "outputs": [
    {
     "name": "stdout",
     "output_type": "stream",
     "text": [
      "Requirement already satisfied: opencv-python-headless==4.8.0.76 in c:\\users\\medhat\\anaconda3\\envs\\torch\\lib\\site-packages (from -r requirements.txt (line 1)) (4.8.0.76)\n",
      "Requirement already satisfied: matplotlib==3.7.3 in c:\\users\\medhat\\anaconda3\\envs\\torch\\lib\\site-packages (from -r requirements.txt (line 2)) (3.7.3)\n",
      "Requirement already satisfied: numpy==1.24.1 in c:\\users\\medhat\\anaconda3\\envs\\torch\\lib\\site-packages (from -r requirements.txt (line 3)) (1.24.1)\n",
      "Requirement already satisfied: Pillow==9.3.0 in c:\\users\\medhat\\anaconda3\\envs\\torch\\lib\\site-packages (from -r requirements.txt (line 4)) (9.3.0)\n",
      "Requirement already satisfied: bokeh==3.2.2 in c:\\users\\medhat\\anaconda3\\envs\\torch\\lib\\site-packages (from -r requirements.txt (line 5)) (3.2.2)\n",
      "Requirement already satisfied: torch==2.0.1+cu117 in c:\\users\\medhat\\anaconda3\\envs\\torch\\lib\\site-packages (from -r requirements.txt (line 6)) (2.0.1+cu117)\n",
      "Requirement already satisfied: torchvision==0.15.2+cu117 in c:\\users\\medhat\\anaconda3\\envs\\torch\\lib\\site-packages (from -r requirements.txt (line 7)) (0.15.2+cu117)\n",
      "Requirement already satisfied: torchaudio==2.0.2+cu117 in c:\\users\\medhat\\anaconda3\\envs\\torch\\lib\\site-packages (from -r requirements.txt (line 8)) (2.0.2+cu117)\n",
      "Requirement already satisfied: torchsummary==1.5.1 in c:\\users\\medhat\\anaconda3\\envs\\torch\\lib\\site-packages (from -r requirements.txt (line 9)) (1.5.1)\n",
      "Requirement already satisfied: tqdm==4.66.1 in c:\\users\\medhat\\anaconda3\\envs\\torch\\lib\\site-packages (from -r requirements.txt (line 10)) (4.66.1)\n",
      "Requirement already satisfied: ipywidgets==8.1.1 in c:\\users\\medhat\\anaconda3\\envs\\torch\\lib\\site-packages (from -r requirements.txt (line 11)) (8.1.1)\n",
      "Requirement already satisfied: ipykernel==6.25.2 in c:\\users\\medhat\\anaconda3\\envs\\torch\\lib\\site-packages (from -r requirements.txt (line 12)) (6.25.2)\n",
      "Requirement already satisfied: scikit-learn==1.3.0 in c:\\users\\medhat\\anaconda3\\envs\\torch\\lib\\site-packages (from -r requirements.txt (line 13)) (1.3.0)\n",
      "Requirement already satisfied: livelossplot==0.5.5 in c:\\users\\medhat\\anaconda3\\envs\\torch\\lib\\site-packages (from -r requirements.txt (line 14)) (0.5.5)\n",
      "Requirement already satisfied: pytest==7.4.2 in c:\\users\\medhat\\anaconda3\\envs\\torch\\lib\\site-packages (from -r requirements.txt (line 15)) (7.4.2)\n",
      "Requirement already satisfied: pandas==2.1.0 in c:\\users\\medhat\\anaconda3\\envs\\torch\\lib\\site-packages (from -r requirements.txt (line 16)) (2.1.0)\n",
      "Requirement already satisfied: seaborn==0.12.2 in c:\\users\\medhat\\anaconda3\\envs\\torch\\lib\\site-packages (from -r requirements.txt (line 17)) (0.12.2)\n",
      "Requirement already satisfied: contourpy>=1.0.1 in c:\\users\\medhat\\anaconda3\\envs\\torch\\lib\\site-packages (from matplotlib==3.7.3->-r requirements.txt (line 2)) (1.1.0)\n",
      "Requirement already satisfied: cycler>=0.10 in c:\\users\\medhat\\anaconda3\\envs\\torch\\lib\\site-packages (from matplotlib==3.7.3->-r requirements.txt (line 2)) (0.11.0)\n",
      "Requirement already satisfied: fonttools>=4.22.0 in c:\\users\\medhat\\anaconda3\\envs\\torch\\lib\\site-packages (from matplotlib==3.7.3->-r requirements.txt (line 2)) (4.42.1)\n",
      "Requirement already satisfied: kiwisolver>=1.0.1 in c:\\users\\medhat\\anaconda3\\envs\\torch\\lib\\site-packages (from matplotlib==3.7.3->-r requirements.txt (line 2)) (1.4.5)\n",
      "Requirement already satisfied: packaging>=20.0 in c:\\users\\medhat\\anaconda3\\envs\\torch\\lib\\site-packages (from matplotlib==3.7.3->-r requirements.txt (line 2)) (23.1)\n",
      "Requirement already satisfied: pyparsing>=2.3.1 in c:\\users\\medhat\\anaconda3\\envs\\torch\\lib\\site-packages (from matplotlib==3.7.3->-r requirements.txt (line 2)) (3.1.1)\n",
      "Requirement already satisfied: python-dateutil>=2.7 in c:\\users\\medhat\\anaconda3\\envs\\torch\\lib\\site-packages (from matplotlib==3.7.3->-r requirements.txt (line 2)) (2.8.2)\n",
      "Requirement already satisfied: Jinja2>=2.9 in c:\\users\\medhat\\anaconda3\\envs\\torch\\lib\\site-packages (from bokeh==3.2.2->-r requirements.txt (line 5)) (3.1.2)\n",
      "Requirement already satisfied: PyYAML>=3.10 in c:\\users\\medhat\\anaconda3\\envs\\torch\\lib\\site-packages (from bokeh==3.2.2->-r requirements.txt (line 5)) (6.0.1)\n",
      "Requirement already satisfied: tornado>=5.1 in c:\\users\\medhat\\anaconda3\\envs\\torch\\lib\\site-packages (from bokeh==3.2.2->-r requirements.txt (line 5)) (6.3.3)\n",
      "Requirement already satisfied: xyzservices>=2021.09.1 in c:\\users\\medhat\\anaconda3\\envs\\torch\\lib\\site-packages (from bokeh==3.2.2->-r requirements.txt (line 5)) (2023.7.0)\n",
      "Requirement already satisfied: filelock in c:\\users\\medhat\\anaconda3\\envs\\torch\\lib\\site-packages (from torch==2.0.1+cu117->-r requirements.txt (line 6)) (3.9.0)\n",
      "Requirement already satisfied: typing-extensions in c:\\users\\medhat\\anaconda3\\envs\\torch\\lib\\site-packages (from torch==2.0.1+cu117->-r requirements.txt (line 6)) (4.4.0)\n",
      "Requirement already satisfied: sympy in c:\\users\\medhat\\anaconda3\\envs\\torch\\lib\\site-packages (from torch==2.0.1+cu117->-r requirements.txt (line 6)) (1.11.1)\n",
      "Requirement already satisfied: networkx in c:\\users\\medhat\\anaconda3\\envs\\torch\\lib\\site-packages (from torch==2.0.1+cu117->-r requirements.txt (line 6)) (3.0)\n",
      "Requirement already satisfied: requests in c:\\users\\medhat\\anaconda3\\envs\\torch\\lib\\site-packages (from torchvision==0.15.2+cu117->-r requirements.txt (line 7)) (2.31.0)\n",
      "Requirement already satisfied: colorama in c:\\users\\medhat\\anaconda3\\envs\\torch\\lib\\site-packages (from tqdm==4.66.1->-r requirements.txt (line 10)) (0.4.6)\n",
      "Requirement already satisfied: comm>=0.1.3 in c:\\users\\medhat\\anaconda3\\envs\\torch\\lib\\site-packages (from ipywidgets==8.1.1->-r requirements.txt (line 11)) (0.1.4)\n",
      "Requirement already satisfied: ipython>=6.1.0 in c:\\users\\medhat\\anaconda3\\envs\\torch\\lib\\site-packages (from ipywidgets==8.1.1->-r requirements.txt (line 11)) (8.15.0)\n",
      "Requirement already satisfied: traitlets>=4.3.1 in c:\\users\\medhat\\anaconda3\\envs\\torch\\lib\\site-packages (from ipywidgets==8.1.1->-r requirements.txt (line 11)) (5.9.0)\n",
      "Requirement already satisfied: widgetsnbextension~=4.0.9 in c:\\users\\medhat\\anaconda3\\envs\\torch\\lib\\site-packages (from ipywidgets==8.1.1->-r requirements.txt (line 11)) (4.0.9)\n",
      "Requirement already satisfied: jupyterlab-widgets~=3.0.9 in c:\\users\\medhat\\anaconda3\\envs\\torch\\lib\\site-packages (from ipywidgets==8.1.1->-r requirements.txt (line 11)) (3.0.9)\n",
      "Requirement already satisfied: debugpy>=1.6.5 in c:\\users\\medhat\\anaconda3\\envs\\torch\\lib\\site-packages (from ipykernel==6.25.2->-r requirements.txt (line 12)) (1.8.0)\n",
      "Requirement already satisfied: jupyter-client>=6.1.12 in c:\\users\\medhat\\anaconda3\\envs\\torch\\lib\\site-packages (from ipykernel==6.25.2->-r requirements.txt (line 12)) (8.3.1)\n",
      "Requirement already satisfied: jupyter-core!=5.0.*,>=4.12 in c:\\users\\medhat\\anaconda3\\envs\\torch\\lib\\site-packages (from ipykernel==6.25.2->-r requirements.txt (line 12)) (5.3.1)\n",
      "Requirement already satisfied: matplotlib-inline>=0.1 in c:\\users\\medhat\\anaconda3\\envs\\torch\\lib\\site-packages (from ipykernel==6.25.2->-r requirements.txt (line 12)) (0.1.6)\n",
      "Requirement already satisfied: nest-asyncio in c:\\users\\medhat\\anaconda3\\envs\\torch\\lib\\site-packages (from ipykernel==6.25.2->-r requirements.txt (line 12)) (1.5.7)\n",
      "Requirement already satisfied: psutil in c:\\users\\medhat\\anaconda3\\envs\\torch\\lib\\site-packages (from ipykernel==6.25.2->-r requirements.txt (line 12)) (5.9.5)\n",
      "Requirement already satisfied: pyzmq>=20 in c:\\users\\medhat\\anaconda3\\envs\\torch\\lib\\site-packages (from ipykernel==6.25.2->-r requirements.txt (line 12)) (25.1.1)\n",
      "Requirement already satisfied: scipy>=1.5.0 in c:\\users\\medhat\\anaconda3\\envs\\torch\\lib\\site-packages (from scikit-learn==1.3.0->-r requirements.txt (line 13)) (1.11.2)\n",
      "Requirement already satisfied: joblib>=1.1.1 in c:\\users\\medhat\\anaconda3\\envs\\torch\\lib\\site-packages (from scikit-learn==1.3.0->-r requirements.txt (line 13)) (1.3.2)\n",
      "Requirement already satisfied: threadpoolctl>=2.0.0 in c:\\users\\medhat\\anaconda3\\envs\\torch\\lib\\site-packages (from scikit-learn==1.3.0->-r requirements.txt (line 13)) (3.2.0)\n",
      "Requirement already satisfied: iniconfig in c:\\users\\medhat\\anaconda3\\envs\\torch\\lib\\site-packages (from pytest==7.4.2->-r requirements.txt (line 15)) (2.0.0)\n",
      "Requirement already satisfied: pluggy<2.0,>=0.12 in c:\\users\\medhat\\anaconda3\\envs\\torch\\lib\\site-packages (from pytest==7.4.2->-r requirements.txt (line 15)) (1.3.0)\n",
      "Requirement already satisfied: exceptiongroup>=1.0.0rc8 in c:\\users\\medhat\\anaconda3\\envs\\torch\\lib\\site-packages (from pytest==7.4.2->-r requirements.txt (line 15)) (1.1.3)\n",
      "Requirement already satisfied: tomli>=1.0.0 in c:\\users\\medhat\\anaconda3\\envs\\torch\\lib\\site-packages (from pytest==7.4.2->-r requirements.txt (line 15)) (2.0.1)\n",
      "Requirement already satisfied: pytz>=2020.1 in c:\\users\\medhat\\anaconda3\\envs\\torch\\lib\\site-packages (from pandas==2.1.0->-r requirements.txt (line 16)) (2023.3.post1)\n",
      "Requirement already satisfied: tzdata>=2022.1 in c:\\users\\medhat\\anaconda3\\envs\\torch\\lib\\site-packages (from pandas==2.1.0->-r requirements.txt (line 16)) (2023.3)\n",
      "Requirement already satisfied: backcall in c:\\users\\medhat\\anaconda3\\envs\\torch\\lib\\site-packages (from ipython>=6.1.0->ipywidgets==8.1.1->-r requirements.txt (line 11)) (0.2.0)\n",
      "Requirement already satisfied: decorator in c:\\users\\medhat\\anaconda3\\envs\\torch\\lib\\site-packages (from ipython>=6.1.0->ipywidgets==8.1.1->-r requirements.txt (line 11)) (5.1.1)\n",
      "Requirement already satisfied: jedi>=0.16 in c:\\users\\medhat\\anaconda3\\envs\\torch\\lib\\site-packages (from ipython>=6.1.0->ipywidgets==8.1.1->-r requirements.txt (line 11)) (0.19.0)\n",
      "Requirement already satisfied: pickleshare in c:\\users\\medhat\\anaconda3\\envs\\torch\\lib\\site-packages (from ipython>=6.1.0->ipywidgets==8.1.1->-r requirements.txt (line 11)) (0.7.5)\n",
      "Requirement already satisfied: prompt-toolkit!=3.0.37,<3.1.0,>=3.0.30 in c:\\users\\medhat\\anaconda3\\envs\\torch\\lib\\site-packages (from ipython>=6.1.0->ipywidgets==8.1.1->-r requirements.txt (line 11)) (3.0.39)\n",
      "Requirement already satisfied: pygments>=2.4.0 in c:\\users\\medhat\\anaconda3\\envs\\torch\\lib\\site-packages (from ipython>=6.1.0->ipywidgets==8.1.1->-r requirements.txt (line 11)) (2.16.1)\n",
      "Requirement already satisfied: stack-data in c:\\users\\medhat\\anaconda3\\envs\\torch\\lib\\site-packages (from ipython>=6.1.0->ipywidgets==8.1.1->-r requirements.txt (line 11)) (0.6.2)\n",
      "Requirement already satisfied: MarkupSafe>=2.0 in c:\\users\\medhat\\anaconda3\\envs\\torch\\lib\\site-packages (from Jinja2>=2.9->bokeh==3.2.2->-r requirements.txt (line 5)) (2.1.2)\n",
      "Requirement already satisfied: platformdirs>=2.5 in c:\\users\\medhat\\anaconda3\\envs\\torch\\lib\\site-packages (from jupyter-core!=5.0.*,>=4.12->ipykernel==6.25.2->-r requirements.txt (line 12)) (3.10.0)\n",
      "Requirement already satisfied: pywin32>=300 in c:\\users\\medhat\\anaconda3\\envs\\torch\\lib\\site-packages (from jupyter-core!=5.0.*,>=4.12->ipykernel==6.25.2->-r requirements.txt (line 12)) (306)\n",
      "Requirement already satisfied: six>=1.5 in c:\\users\\medhat\\anaconda3\\envs\\torch\\lib\\site-packages (from python-dateutil>=2.7->matplotlib==3.7.3->-r requirements.txt (line 2)) (1.16.0)\n",
      "Requirement already satisfied: charset-normalizer<4,>=2 in c:\\users\\medhat\\anaconda3\\envs\\torch\\lib\\site-packages (from requests->torchvision==0.15.2+cu117->-r requirements.txt (line 7)) (2.1.1)\n",
      "Requirement already satisfied: idna<4,>=2.5 in c:\\users\\medhat\\anaconda3\\envs\\torch\\lib\\site-packages (from requests->torchvision==0.15.2+cu117->-r requirements.txt (line 7)) (3.4)\n",
      "Requirement already satisfied: urllib3<3,>=1.21.1 in c:\\users\\medhat\\anaconda3\\envs\\torch\\lib\\site-packages (from requests->torchvision==0.15.2+cu117->-r requirements.txt (line 7)) (1.26.13)\n",
      "Requirement already satisfied: certifi>=2017.4.17 in c:\\users\\medhat\\anaconda3\\envs\\torch\\lib\\site-packages (from requests->torchvision==0.15.2+cu117->-r requirements.txt (line 7)) (2022.12.7)\n",
      "Requirement already satisfied: mpmath>=0.19 in c:\\users\\medhat\\anaconda3\\envs\\torch\\lib\\site-packages (from sympy->torch==2.0.1+cu117->-r requirements.txt (line 6)) (1.2.1)\n",
      "Requirement already satisfied: parso<0.9.0,>=0.8.3 in c:\\users\\medhat\\anaconda3\\envs\\torch\\lib\\site-packages (from jedi>=0.16->ipython>=6.1.0->ipywidgets==8.1.1->-r requirements.txt (line 11)) (0.8.3)\n",
      "Requirement already satisfied: wcwidth in c:\\users\\medhat\\anaconda3\\envs\\torch\\lib\\site-packages (from prompt-toolkit!=3.0.37,<3.1.0,>=3.0.30->ipython>=6.1.0->ipywidgets==8.1.1->-r requirements.txt (line 11)) (0.2.6)\n",
      "Requirement already satisfied: executing>=1.2.0 in c:\\users\\medhat\\anaconda3\\envs\\torch\\lib\\site-packages (from stack-data->ipython>=6.1.0->ipywidgets==8.1.1->-r requirements.txt (line 11)) (1.2.0)\n",
      "Requirement already satisfied: asttokens>=2.1.0 in c:\\users\\medhat\\anaconda3\\envs\\torch\\lib\\site-packages (from stack-data->ipython>=6.1.0->ipywidgets==8.1.1->-r requirements.txt (line 11)) (2.4.0)\n",
      "Requirement already satisfied: pure-eval in c:\\users\\medhat\\anaconda3\\envs\\torch\\lib\\site-packages (from stack-data->ipython>=6.1.0->ipywidgets==8.1.1->-r requirements.txt (line 11)) (0.2.2)\n"
     ]
    }
   ],
   "source": [
    "# Install requirements\n",
    "!python -m pip install -r requirements.txt"
   ]
  },
  {
   "cell_type": "code",
   "execution_count": 3,
   "id": "98a69bd0",
   "metadata": {
    "tags": []
   },
   "outputs": [
    {
     "name": "stdout",
     "output_type": "stream",
     "text": [
      "<module 'torch' from 'c:\\\\Users\\\\Medhat\\\\Anaconda3\\\\envs\\\\torch\\\\lib\\\\site-packages\\\\torch\\\\__init__.py'>\n"
     ]
    }
   ],
   "source": [
    "import matplotlib.pyplot as plt\n",
    "import numpy as np\n",
    "import torch\n",
    "print(torch)\n",
    "import torch.nn.functional as F\n",
    "\n",
    "from torch import nn, optim\n",
    "from torch.utils.data import DataLoader, random_split\n",
    "from torchvision import datasets\n",
    "\n",
    "import torchvision.transforms as T\n",
    "from torchsummary import summary\n",
    "from tqdm import tqdm\n",
    "# from sklearn.model_selection import train_test_split\n",
    "\n",
    "%matplotlib inline"
   ]
  },
  {
   "cell_type": "code",
   "execution_count": 4,
   "id": "efa0a6bf",
   "metadata": {
    "tags": []
   },
   "outputs": [
    {
     "data": {
      "text/plain": [
       "(device(type='cuda'), 1)"
      ]
     },
     "execution_count": 4,
     "metadata": {},
     "output_type": "execute_result"
    }
   ],
   "source": [
    "device = torch.device(\"cuda\" if torch.cuda.is_available() else \"cpu\")\n",
    "device, torch.cuda.device_count()"
   ]
  },
  {
   "cell_type": "code",
   "execution_count": 5,
   "id": "7c994eed",
   "metadata": {},
   "outputs": [],
   "source": [
    "import multiprocessing\n",
    "\n",
    "# number of subprocesses to use for data loading\n",
    "# We set this equal to the number of CPUs available\n",
    "# in this machine\n",
    "n_workers = multiprocessing.cpu_count()"
   ]
  },
  {
   "cell_type": "markdown",
   "id": "caee81a3",
   "metadata": {},
   "source": [
    "## Data Loading & Preprocessing"
   ]
  },
  {
   "cell_type": "code",
   "execution_count": 145,
   "id": "3dbc4293",
   "metadata": {},
   "outputs": [
    {
     "name": "stdout",
     "output_type": "stream",
     "text": [
      "Using 51000 examples for training.\n",
      "Using 9000 examples for validation.\n",
      "Using 10000 examples for testing.\n"
     ]
    }
   ],
   "source": [
    "# Hyperparameters\n",
    "batch_size = 100\n",
    "n_epochs = 20\n",
    "learning_rate = 1e-3\n",
    "\n",
    "# transforms pipeline\n",
    "transform = T.Compose([\n",
    "    # This transforms takes a np.array or a PIL image of integers\n",
    "    # in the range 0-255 and transforms it to a float tensor in the\n",
    "    # range 0.0 - 1.0\n",
    "    T.ToTensor(),\n",
    "    # This then renormalize the tensor to be between -1.0 and 1.0,\n",
    "    # which is a better range for modern activation functions like Relu\n",
    "    T.Normalize((0.5), (0.5))\n",
    "])\n",
    "\n",
    "# training and test sets\n",
    "trainval_data = datasets.MNIST(root=\"data\", download=True, train=True, transform=transform)\n",
    "test_data = datasets.MNIST(root=\"data\", download=True, train=False, transform=transform)\n",
    "\n",
    "# Split in train and validation\n",
    "# NOTE: we set the generator with a fixed random seed for reproducibility\n",
    "train_len = int(len(trainval_data) * 0.85)\n",
    "val_len = len(trainval_data) - train_len\n",
    "\n",
    "# create separate copies for training and validation datasets\n",
    "# train_data, val_data = train_test_split(orig_data, test_size=0.2, random_state=42)\n",
    "train_data, val_data = random_split(trainval_data, [train_len, val_len], generator=torch.Generator().manual_seed(42))\n",
    "\n",
    "# train, test and val loaders \n",
    "train_loader = DataLoader(dataset=train_data, batch_size=batch_size, shuffle=True, num_workers=n_workers)\n",
    "test_loader = DataLoader(dataset=test_data, batch_size=batch_size, shuffle=True, num_workers=n_workers)\n",
    "val_loader = DataLoader(dataset=val_data, batch_size=batch_size, shuffle=False, num_workers=n_workers)\n",
    "\n",
    "print(f\"Using {train_len} examples for training.\")\n",
    "print(f\"Using {val_len} examples for validation.\")\n",
    "print(f\"Using {len(test_loader.dataset)} examples for testing.\")"
   ]
  },
  {
   "cell_type": "markdown",
   "id": "b5360220",
   "metadata": {},
   "source": [
    "## EXPLORATORY DATA ANALYSIS\n"
   ]
  },
  {
   "cell_type": "code",
   "execution_count": 146,
   "id": "0184868c",
   "metadata": {},
   "outputs": [],
   "source": [
    "## This cell contains a function for showing 5 images from a dataloader\n",
    "def show5(img_loader):\n",
    "    dataiter = iter(img_loader)\n",
    "    \n",
    "    batch = next(dataiter)\n",
    "    labels = batch[1][0:5]\n",
    "    images = batch[0][0:5]\n",
    "    \n",
    "    for i in range(5):\n",
    "        print(int(labels[i].detach()))\n",
    "        \n",
    "        image = images[i].numpy()\n",
    "        plt.imshow(image.T.squeeze().T)\n",
    "        plt.show()"
   ]
  },
  {
   "cell_type": "code",
   "execution_count": 147,
   "id": "71e2971b",
   "metadata": {
    "scrolled": true
   },
   "outputs": [
    {
     "name": "stdout",
     "output_type": "stream",
     "text": [
      "5\n"
     ]
    },
    {
     "name": "stderr",
     "output_type": "stream",
     "text": [
      "Exception ignored in: <function _MultiProcessingDataLoaderIter.__del__ at 0x000001C86E492440>\n",
      "Traceback (most recent call last):\n",
      "  File \"c:\\Users\\Medhat\\Anaconda3\\envs\\torch\\lib\\site-packages\\torch\\utils\\data\\dataloader.py\", line 1478, in __del__\n",
      "    self._shutdown_workers()\n",
      "  File \"c:\\Users\\Medhat\\Anaconda3\\envs\\torch\\lib\\site-packages\\torch\\utils\\data\\dataloader.py\", line 1436, in _shutdown_workers\n",
      "    if self._persistent_workers or self._workers_status[worker_id]:\n",
      "AttributeError: '_MultiProcessingDataLoaderIter' object has no attribute '_workers_status'\n"
     ]
    },
    {
     "data": {
      "image/png": "[encoded data removed]",
      "text/plain": [
       "<Figure size 640x480 with 1 Axes>"
      ]
     },
     "metadata": {},
     "output_type": "display_data"
    },
    {
     "name": "stdout",
     "output_type": "stream",
     "text": [
      "2\n"
     ]
    },
    {
     "data": {
      "image/png": "[encoded data removed]",
      "text/plain": [
       "<Figure size 640x480 with 1 Axes>"
      ]
     },
     "metadata": {},
     "output_type": "display_data"
    },
    {
     "name": "stdout",
     "output_type": "stream",
     "text": [
      "1\n"
     ]
    },
    {
     "data": {
      "image/png": "[encoded data removed]",
      "text/plain": [
       "<Figure size 640x480 with 1 Axes>"
      ]
     },
     "metadata": {},
     "output_type": "display_data"
    },
    {
     "name": "stdout",
     "output_type": "stream",
     "text": [
      "6\n"
     ]
    },
    {
     "data": {
      "image/png": "[encoded data removed]",
      "text/plain": [
       "<Figure size 640x480 with 1 Axes>"
      ]
     },
     "metadata": {},
     "output_type": "display_data"
    },
    {
     "name": "stdout",
     "output_type": "stream",
     "text": [
      "7\n"
     ]
    },
    {
     "data": {
      "image/png": "[encoded data removed]",
      "text/plain": [
       "<Figure size 640x480 with 1 Axes>"
      ]
     },
     "metadata": {},
     "output_type": "display_data"
    }
   ],
   "source": [
    "show5(test_loader)"
   ]
  },
  {
   "cell_type": "code",
   "execution_count": 148,
   "id": "6b7f37cb",
   "metadata": {},
   "outputs": [
    {
     "data": {
      "text/plain": [
       "(51000, 10000, 9000)"
      ]
     },
     "execution_count": 148,
     "metadata": {},
     "output_type": "execute_result"
    }
   ],
   "source": [
    "len(train_loader.dataset), len(test_loader.dataset), len(val_loader.dataset)"
   ]
  },
  {
   "cell_type": "markdown",
   "id": "1f1c103a",
   "metadata": {},
   "source": [
    "## Build the Neural Network"
   ]
  },
  {
   "cell_type": "code",
   "execution_count": 149,
   "id": "638cf56e",
   "metadata": {},
   "outputs": [
    {
     "data": {
      "text/plain": [
       "DigitNet(\n",
       "  (fc1): Linear(in_features=784, out_features=120, bias=True)\n",
       "  (fc2): Linear(in_features=120, out_features=84, bias=True)\n",
       "  (fc3): Linear(in_features=84, out_features=10, bias=True)\n",
       ")"
      ]
     },
     "execution_count": 149,
     "metadata": {},
     "output_type": "execute_result"
    }
   ],
   "source": [
    "class DigitNet(nn.Module):\n",
    "    def __init__(self, in_features = 28 * 28, out_features = 10):\n",
    "        super(DigitNet, self).__init__()\n",
    "        \n",
    "        hidden_1 = 120\n",
    "        hidden_2 = 84\n",
    "        \n",
    "        # Linear layer (784 -> hidden_1)\n",
    "        self.fc1 = nn.Linear(in_features, out_features=hidden_1)\n",
    "        # Linear layer (hidden_1 -> hidden_2)\n",
    "        self.fc2 = nn.Linear(in_features=hidden_1, out_features=hidden_2)\n",
    "        # Linear layer (hidden_2 -> hidden_3)\n",
    "        self.fc3 = nn.Linear(in_features=hidden_2, out_features=out_features)\n",
    "        \n",
    "    def forward(self, x):\n",
    "        x = torch.flatten(x, 1) # or x = x.view(-1, 28 * 28)\n",
    "        x = F.relu(self.fc1(x))\n",
    "        x = F.relu(self.fc2(x))\n",
    "        \n",
    "        x = self.fc3(x)\n",
    "        \n",
    "        return F.log_softmax(x, dim=1)\n",
    "        \n",
    "net = DigitNet()\n",
    "net.to(device) # prints topology of the network"
   ]
  },
  {
   "cell_type": "markdown",
   "id": "cc37e213",
   "metadata": {},
   "source": [
    "## Check net parameters & layers "
   ]
  },
  {
   "cell_type": "code",
   "execution_count": 150,
   "id": "805229b4",
   "metadata": {},
   "outputs": [
    {
     "name": "stdout",
     "output_type": "stream",
     "text": [
      "----------------------------------------------------------------\n",
      "        Layer (type)               Output Shape         Param #\n",
      "================================================================\n",
      "            Linear-1                  [-1, 120]          94,200\n",
      "            Linear-2                   [-1, 84]          10,164\n",
      "            Linear-3                   [-1, 10]             850\n",
      "================================================================\n",
      "Total params: 105,214\n",
      "Trainable params: 105,214\n",
      "Non-trainable params: 0\n",
      "----------------------------------------------------------------\n",
      "Input size (MB): 0.00\n",
      "Forward/backward pass size (MB): 0.00\n",
      "Params size (MB): 0.40\n",
      "Estimated Total Size (MB): 0.41\n",
      "----------------------------------------------------------------\n"
     ]
    }
   ],
   "source": [
    "summary(net, input_size=(1, 28, 28))"
   ]
  },
  {
   "cell_type": "markdown",
   "id": "cde2ccf4",
   "metadata": {},
   "source": [
    "## Specify a loss function and an optimizer"
   ]
  },
  {
   "cell_type": "code",
   "execution_count": 151,
   "id": "86c1c2fd",
   "metadata": {},
   "outputs": [],
   "source": [
    "optimizer = optim.Adam(net.parameters(), lr=learning_rate)"
   ]
  },
  {
   "cell_type": "code",
   "execution_count": 152,
   "id": "9e858ba9",
   "metadata": {},
   "outputs": [],
   "source": [
    "criterion = nn.CrossEntropyLoss()"
   ]
  },
  {
   "cell_type": "markdown",
   "id": "57ca3a4b",
   "metadata": {},
   "source": [
    "## Training and Evaluation loop with early stopping"
   ]
  },
  {
   "cell_type": "code",
   "execution_count": 153,
   "id": "dfd3d624",
   "metadata": {},
   "outputs": [],
   "source": [
    "def train(net, train_loader=train_loader, val_loader=val_loader, optimizer=optimizer, criterion=criterion, epochs=n_epochs):\n",
    "    # track losses for plotting\n",
    "    train_losses = []\n",
    "    val_losses = []\n",
    "    \n",
    "    best_val_loss = float(\"inf\")\n",
    "    no_improvement_count = 0\n",
    "    patience = 3\n",
    "    \n",
    "    for epoch in range(epochs):\n",
    "        net.train()\n",
    "        \n",
    "        train_loss = 0.0\n",
    "        train_correct = 0.0\n",
    "        for batch_idx, (data, target) in tqdm(\n",
    "            enumerate(train_loader),\n",
    "            desc=\"Training\",\n",
    "            total=len(train_loader),\n",
    "            leave=True,\n",
    "            ncols=80\n",
    "        ):\n",
    "            data, target = data.to(device), target.to(device)\n",
    "            \n",
    "            optimizer.zero_grad()\n",
    "            output = net(data)\n",
    "            \n",
    "            loss = criterion(output, target)\n",
    "            loss.backward() # calculate gradients\n",
    "            optimizer.step() # apply weight update\n",
    "            \n",
    "            _, preds = torch.max(output.data, 1)\n",
    "            train_correct += (preds == target).sum().item()\n",
    "            train_loss += loss.item()\n",
    "            \n",
    "        accuracy = train_correct/len(train_loader)\n",
    "        avg_loss = train_loss/len(train_loader)\n",
    "        train_losses.append(avg_loss)  # Store training loss\n",
    "        print(f'Epoch {epoch + 1} training accuracy: {accuracy:.2f}% training loss: {avg_loss:.5f}')\n",
    "        \n",
    "        # Validation on validation set\n",
    "        val_loss, val_accuracy = evaluate(net, val_loader, criterion)\n",
    "        val_losses.append(val_loss) # Store val loss\n",
    "        print(f'Epoch {epoch + 1} val accuracy: {val_accuracy:.2f}% val loss: {val_loss:.5f}')\n",
    "        \n",
    "        # Early stopping\n",
    "        if(val_loss < best_val_loss):\n",
    "            best_val_loss = val_loss\n",
    "            no_improvement_count = 0 # reset\n",
    "        else:\n",
    "            no_improvement_count += 1\n",
    "            if(no_improvement_count >= patience):\n",
    "                print(f'Early stopping after {epoch + 1} epochs with no improvement.')\n",
    "                break # stop training\n",
    "    return train_losses, val_losses\n",
    "\n",
    "def evaluate(net, val_loader, criterion=criterion):\n",
    "    net.eval()\n",
    "    val_correct = 0.0\n",
    "    val_loss = 0.0\n",
    "    with torch.no_grad():\n",
    "        for batch_idx, (data, target) in tqdm(\n",
    "            enumerate(val_loader),\n",
    "            desc=\"Validating\",\n",
    "            total=len(val_loader),\n",
    "            leave=True,\n",
    "            ncols=80\n",
    "        ):\n",
    "            data, target = data.to(device), target.to(device)\n",
    "\n",
    "            output = net(data)\n",
    "\n",
    "            loss = criterion(output, target)\n",
    "            _, preds = torch.max(output.data, 1)\n",
    "\n",
    "            val_correct += (preds == target).sum().item()\n",
    "            val_loss += loss.item()\n",
    "            \n",
    "        accuracy = val_correct/len(val_loader)\n",
    "        avg_loss = val_loss/len(val_loader)\n",
    "        \n",
    "        return avg_loss, accuracy "
   ]
  },
  {
   "cell_type": "markdown",
   "id": "a974e385",
   "metadata": {},
   "source": [
    "## Model test accuracy and loss function"
   ]
  },
  {
   "cell_type": "code",
   "execution_count": 154,
   "id": "7b920bb4",
   "metadata": {},
   "outputs": [],
   "source": [
    "def test(net, data_loader=test_loader, criterion=criterion):\n",
    "        net.eval()\n",
    "        test_loss = 0.0\n",
    "        test_correct = 0.0\n",
    "        \n",
    "        with torch.no_grad():\n",
    "            for inputs, labels in data_loader:\n",
    "                inputs, labels = inputs.to(device), labels.to(device)\n",
    "\n",
    "                outputs = net(inputs)\n",
    "                loss = criterion(outputs, labels)\n",
    "\n",
    "                _, preds = torch.max(outputs.data, 1)\n",
    "                test_correct += (preds == labels).sum().item()\n",
    "                test_loss += loss.item()\n",
    "                \n",
    "        accuracy = test_correct/len(test_loader)\n",
    "        avg_loss = test_loss/len(test_loader)\n",
    "        \n",
    "        print(f'Test accuracy: {accuracy:.2f}% test loss: {avg_loss:.5f}')"
   ]
  },
  {
   "cell_type": "markdown",
   "id": "2b602af1",
   "metadata": {},
   "source": [
    "## Plot training and evaluation losses per epoch "
   ]
  },
  {
   "cell_type": "code",
   "execution_count": 155,
   "id": "6845e901",
   "metadata": {},
   "outputs": [],
   "source": [
    "def plot_losses(train_losses, val_losses):\n",
    "    epochs = len(train_losses)\n",
    "    x_ticks = np.arange(1, epochs + 1)\n",
    "    \n",
    "    plt.plot(x_ticks, train_losses, label=\"Training Loss\")\n",
    "    plt.plot(x_ticks, val_losses, label=\"Validation Loss\")\n",
    "    plt.xlabel('Epochs')\n",
    "    plt.ylabel('Loss')\n",
    "    plt.xticks(x_ticks)\n",
    "    plt.legend()\n",
    "    plt.show()"
   ]
  },
  {
   "cell_type": "markdown",
   "id": "a60795f6",
   "metadata": {},
   "source": [
    "## Running the Neural Network"
   ]
  },
  {
   "cell_type": "code",
   "execution_count": 156,
   "id": "12568528",
   "metadata": {},
   "outputs": [
    {
     "name": "stderr",
     "output_type": "stream",
     "text": [
      "Training: 100%|███████████████████████████████| 510/510 [00:05<00:00, 88.57it/s]\n"
     ]
    },
    {
     "name": "stdout",
     "output_type": "stream",
     "text": [
      "Epoch 1 training accuracy: 86.89% training loss: 0.45294\n"
     ]
    },
    {
     "name": "stderr",
     "output_type": "stream",
     "text": [
      "Validating: 100%|███████████████████████████████| 90/90 [00:16<00:00,  5.41it/s]\n"
     ]
    },
    {
     "name": "stdout",
     "output_type": "stream",
     "text": [
      "Epoch 1 val accuracy: 91.68% val loss: 0.28495\n"
     ]
    },
    {
     "name": "stderr",
     "output_type": "stream",
     "text": [
      "Training: 100%|███████████████████████████████| 510/510 [00:05<00:00, 94.78it/s]\n"
     ]
    },
    {
     "name": "stdout",
     "output_type": "stream",
     "text": [
      "Epoch 2 training accuracy: 93.38% training loss: 0.22204\n"
     ]
    },
    {
     "name": "stderr",
     "output_type": "stream",
     "text": [
      "Validating: 100%|███████████████████████████████| 90/90 [00:17<00:00,  5.29it/s]\n"
     ]
    },
    {
     "name": "stdout",
     "output_type": "stream",
     "text": [
      "Epoch 2 val accuracy: 94.30% val loss: 0.18979\n"
     ]
    },
    {
     "name": "stderr",
     "output_type": "stream",
     "text": [
      "Training: 100%|███████████████████████████████| 510/510 [00:07<00:00, 72.36it/s]\n"
     ]
    },
    {
     "name": "stdout",
     "output_type": "stream",
     "text": [
      "Epoch 3 training accuracy: 95.11% training loss: 0.15877\n"
     ]
    },
    {
     "name": "stderr",
     "output_type": "stream",
     "text": [
      "Validating: 100%|███████████████████████████████| 90/90 [00:16<00:00,  5.40it/s]\n"
     ]
    },
    {
     "name": "stdout",
     "output_type": "stream",
     "text": [
      "Epoch 3 val accuracy: 95.42% val loss: 0.15814\n"
     ]
    },
    {
     "name": "stderr",
     "output_type": "stream",
     "text": [
      "Training: 100%|███████████████████████████████| 510/510 [00:05<00:00, 97.19it/s]\n"
     ]
    },
    {
     "name": "stdout",
     "output_type": "stream",
     "text": [
      "Epoch 4 training accuracy: 96.23% training loss: 0.12484\n"
     ]
    },
    {
     "name": "stderr",
     "output_type": "stream",
     "text": [
      "Validating: 100%|███████████████████████████████| 90/90 [00:16<00:00,  5.56it/s]\n"
     ]
    },
    {
     "name": "stdout",
     "output_type": "stream",
     "text": [
      "Epoch 4 val accuracy: 95.60% val loss: 0.14538\n"
     ]
    },
    {
     "name": "stderr",
     "output_type": "stream",
     "text": [
      "Training: 100%|███████████████████████████████| 510/510 [00:05<00:00, 97.17it/s]\n"
     ]
    },
    {
     "name": "stdout",
     "output_type": "stream",
     "text": [
      "Epoch 5 training accuracy: 96.69% training loss: 0.10639\n"
     ]
    },
    {
     "name": "stderr",
     "output_type": "stream",
     "text": [
      "Validating: 100%|███████████████████████████████| 90/90 [00:11<00:00,  7.93it/s]\n"
     ]
    },
    {
     "name": "stdout",
     "output_type": "stream",
     "text": [
      "Epoch 5 val accuracy: 96.04% val loss: 0.13284\n"
     ]
    },
    {
     "name": "stderr",
     "output_type": "stream",
     "text": [
      "Training: 100%|███████████████████████████████| 510/510 [00:05<00:00, 94.90it/s]\n"
     ]
    },
    {
     "name": "stdout",
     "output_type": "stream",
     "text": [
      "Epoch 6 training accuracy: 97.11% training loss: 0.09345\n"
     ]
    },
    {
     "name": "stderr",
     "output_type": "stream",
     "text": [
      "Validating: 100%|███████████████████████████████| 90/90 [00:16<00:00,  5.53it/s]\n"
     ]
    },
    {
     "name": "stdout",
     "output_type": "stream",
     "text": [
      "Epoch 6 val accuracy: 96.64% val loss: 0.11385\n"
     ]
    },
    {
     "name": "stderr",
     "output_type": "stream",
     "text": [
      "Training: 100%|███████████████████████████████| 510/510 [00:05<00:00, 85.66it/s]\n"
     ]
    },
    {
     "name": "stdout",
     "output_type": "stream",
     "text": [
      "Epoch 7 training accuracy: 97.47% training loss: 0.08065\n"
     ]
    },
    {
     "name": "stderr",
     "output_type": "stream",
     "text": [
      "Validating: 100%|███████████████████████████████| 90/90 [00:14<00:00,  6.13it/s]\n"
     ]
    },
    {
     "name": "stdout",
     "output_type": "stream",
     "text": [
      "Epoch 7 val accuracy: 96.73% val loss: 0.10784\n"
     ]
    },
    {
     "name": "stderr",
     "output_type": "stream",
     "text": [
      "Training: 100%|██████████████████████████████| 510/510 [00:04<00:00, 121.72it/s]\n"
     ]
    },
    {
     "name": "stdout",
     "output_type": "stream",
     "text": [
      "Epoch 8 training accuracy: 97.77% training loss: 0.07048\n"
     ]
    },
    {
     "name": "stderr",
     "output_type": "stream",
     "text": [
      "Validating: 100%|███████████████████████████████| 90/90 [00:08<00:00, 10.44it/s]\n"
     ]
    },
    {
     "name": "stdout",
     "output_type": "stream",
     "text": [
      "Epoch 8 val accuracy: 96.86% val loss: 0.11097\n"
     ]
    },
    {
     "name": "stderr",
     "output_type": "stream",
     "text": [
      "Training: 100%|██████████████████████████████| 510/510 [00:04<00:00, 120.01it/s]\n"
     ]
    },
    {
     "name": "stdout",
     "output_type": "stream",
     "text": [
      "Epoch 9 training accuracy: 97.79% training loss: 0.06744\n"
     ]
    },
    {
     "name": "stderr",
     "output_type": "stream",
     "text": [
      "Validating: 100%|███████████████████████████████| 90/90 [00:09<00:00,  9.12it/s]\n"
     ]
    },
    {
     "name": "stdout",
     "output_type": "stream",
     "text": [
      "Epoch 9 val accuracy: 96.96% val loss: 0.11105\n"
     ]
    },
    {
     "name": "stderr",
     "output_type": "stream",
     "text": [
      "Training: 100%|██████████████████████████████| 510/510 [00:04<00:00, 112.06it/s]\n"
     ]
    },
    {
     "name": "stdout",
     "output_type": "stream",
     "text": [
      "Epoch 10 training accuracy: 98.12% training loss: 0.05779\n"
     ]
    },
    {
     "name": "stderr",
     "output_type": "stream",
     "text": [
      "Validating: 100%|███████████████████████████████| 90/90 [00:08<00:00, 10.11it/s]\n"
     ]
    },
    {
     "name": "stdout",
     "output_type": "stream",
     "text": [
      "Epoch 10 val accuracy: 97.39% val loss: 0.09288\n"
     ]
    },
    {
     "name": "stderr",
     "output_type": "stream",
     "text": [
      "Training: 100%|██████████████████████████████| 510/510 [00:04<00:00, 115.12it/s]\n"
     ]
    },
    {
     "name": "stdout",
     "output_type": "stream",
     "text": [
      "Epoch 11 training accuracy: 98.31% training loss: 0.05195\n"
     ]
    },
    {
     "name": "stderr",
     "output_type": "stream",
     "text": [
      "Validating: 100%|███████████████████████████████| 90/90 [00:08<00:00, 10.87it/s]\n"
     ]
    },
    {
     "name": "stdout",
     "output_type": "stream",
     "text": [
      "Epoch 11 val accuracy: 96.92% val loss: 0.10408\n"
     ]
    },
    {
     "name": "stderr",
     "output_type": "stream",
     "text": [
      "Training: 100%|██████████████████████████████| 510/510 [00:04<00:00, 109.61it/s]\n"
     ]
    },
    {
     "name": "stdout",
     "output_type": "stream",
     "text": [
      "Epoch 12 training accuracy: 98.39% training loss: 0.04980\n"
     ]
    },
    {
     "name": "stderr",
     "output_type": "stream",
     "text": [
      "Validating: 100%|███████████████████████████████| 90/90 [00:09<00:00,  9.58it/s]\n"
     ]
    },
    {
     "name": "stdout",
     "output_type": "stream",
     "text": [
      "Epoch 12 val accuracy: 97.01% val loss: 0.10175\n"
     ]
    },
    {
     "name": "stderr",
     "output_type": "stream",
     "text": [
      "Training: 100%|██████████████████████████████| 510/510 [00:04<00:00, 122.65it/s]\n"
     ]
    },
    {
     "name": "stdout",
     "output_type": "stream",
     "text": [
      "Epoch 13 training accuracy: 98.55% training loss: 0.04335\n"
     ]
    },
    {
     "name": "stderr",
     "output_type": "stream",
     "text": [
      "Validating: 100%|███████████████████████████████| 90/90 [00:09<00:00,  9.65it/s]"
     ]
    },
    {
     "name": "stdout",
     "output_type": "stream",
     "text": [
      "Epoch 13 val accuracy: 96.93% val loss: 0.10311\n",
      "Early stopping after 13 epochs with no improvement.\n",
      "CPU times: total: 24.2 s\n",
      "Wall time: 17min 39s\n"
     ]
    },
    {
     "name": "stderr",
     "output_type": "stream",
     "text": [
      "\n"
     ]
    }
   ],
   "source": [
    "%%time\n",
    "train_losses, val_losses = train(net, epochs=n_epochs)"
   ]
  },
  {
   "cell_type": "code",
   "execution_count": 157,
   "id": "f18ed8cc",
   "metadata": {},
   "outputs": [
    {
     "data": {
      "image/png": "[encoded data removed]",
      "text/plain": [
       "<Figure size 640x480 with 1 Axes>"
      ]
     },
     "metadata": {},
     "output_type": "display_data"
    }
   ],
   "source": [
    "plot_losses(train_losses, val_losses)"
   ]
  },
  {
   "cell_type": "markdown",
   "id": "cebe3a2f",
   "metadata": {},
   "source": [
    "## Testing results"
   ]
  },
  {
   "cell_type": "code",
   "execution_count": 158,
   "id": "5651c843",
   "metadata": {},
   "outputs": [
    {
     "name": "stdout",
     "output_type": "stream",
     "text": [
      "Test accuracy: 97.27% test loss: 0.09285\n"
     ]
    }
   ],
   "source": [
    "test(net)"
   ]
  },
  {
   "cell_type": "markdown",
   "id": "c705c9e6",
   "metadata": {},
   "source": [
    "## Saving the model"
   ]
  },
  {
   "cell_type": "code",
   "execution_count": 159,
   "id": "f42729c5",
   "metadata": {},
   "outputs": [],
   "source": [
    "torch.save(net.state_dict(), 'DigitNet.pt')"
   ]
  },
  {
   "cell_type": "code",
   "execution_count": 160,
   "id": "c8e28c07",
   "metadata": {},
   "outputs": [],
   "source": [
    "# save as torchscript\n",
    "scripted = torch.jit.script(net)\n",
    "torch.jit.save(scripted, \"DigitNetTS.pt\") # py-torch-script"
   ]
  },
  {
   "cell_type": "code",
   "execution_count": null,
   "id": "a9d36604",
   "metadata": {},
   "outputs": [],
   "source": []
  }
 ],
 "metadata": {
  "kernelspec": {
   "display_name": "Python 3 (ipykernel)",
   "language": "python",
   "name": "python3"
  },
  "language_info": {
   "codemirror_mode": {
    "name": "ipython",
    "version": 3
   },
   "file_extension": ".py",
   "mimetype": "text/x-python",
   "name": "python",
   "nbconvert_exporter": "python",
   "pygments_lexer": "ipython3",
   "version": "3.10.13"
  }
 },
 "nbformat": 4,
 "nbformat_minor": 5
}
